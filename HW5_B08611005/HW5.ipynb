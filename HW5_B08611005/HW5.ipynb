{
 "cells": [
  {
   "cell_type": "code",
   "execution_count": 7,
   "metadata": {},
   "outputs": [
    {
     "name": "stdout",
     "output_type": "stream",
     "text": [
      "A\n"
     ]
    }
   ],
   "source": [
    "ls ='TTGTACTTCTAGTTTCAGTTGCATGCCCCAGTTGGCACTGCAGTGAACCTCCTCGCAGCACCTCCTGGGTTCATGCAGATTCTACTGCCTCAGCCTCCCGAGTAGCTGAGATTACAGGCATGTGTCAACACGCCCGGCTAATTTTAGTATTTTTAGAGATGGGGTTTCACCATGTTGGCCAGGCTGGTCTCGAACTCTTGACCTCAGGTGATCTCAGCACTTTGGCCTCCCAAAGTGCTGGGATTACAGGTGTGAGACCACCACTGGACCAAGGGCATTGTTCTAATAGTGGAGACATAGACCCTGGTCCCTGGATTACCCACTTGGGTGGAGCCACCATCTCTCCTTGACTCCCTGTGAGGCAGGGCAGAGCCAAGCCTGTGCCCCGCTGAAGACTCCTGCCGTCGCTTCACACCTCACCTTCCATGGCCAGGACCAGGATGGTGAGCAACGCAGGCCACCCAGCACACCCACCAGCACTACCAGATTGGAATGGCCCTCTCCTCCCAGGCCCGGAGCAGCTGTGTCCACACCTGGGGGCAAACCCATGTCTCCTCAGTCACCTGACACCTGCCTTTCCACAAAGACTCAAACCTCAGGCTGGTGACCTCAGCCATGCCACCCACCACGTACCACCCCTCCAGACTTTTCTGGCTGGGCACTGACTGGGGGACAATGGGTCCTGCAGGACTGAGTCTCTGCTCCATCCCCCACACTCACCCTGAGCTTCCCACTCGGGGCAGGCTGAGCAGGGGCACCGCATAGGGAGGAGGACACGTTGAACCATGCGTGCGACTGCAGCACAAACTGATCAGAGGCCTCTGGACGGGTTGGGGTTGAAAGCCGTTTACACCCACAAGAGGCCTATTGGTTGCAGGAGTCAGGTCCACACCCCCGGCGGGGAAGCCCACCTGCCTCTGACCTAATCCCTGCAATCCCCCAAAGTAAACCTTGCCTTCCCTCTCTTCCTGCCTCCACACAAACCCCGCCCCTCCCAGAGCAAAGTGGTCCCCGCCCAGAAGGCCCCGGCCCCGCCCCACCACGGCCCACCCCACCTGGTAGAGGCTGGGCAGCCACGGGCGCACCGTGACCATGGCCCGCTGCCCGCGCTGTGCATCTCCACTGCAGGTCACACTGCACCACAGTACAGGGCGCCGAGTCGCAACTCTGAGGAAGCATCGTCAGTCCCAGCCCGTCTAGCCATCACCCCATCATCCCCCCACCCCCTTACCCCCAGGACCCAGCAGAAGGGCCGGGGTTCAGAAAGCAGTGGCCTTCCCATCAGGAAGGGCCTTGGATCCCAGCTTCGGATGCTGTCTTTCCACGGGCTTGCTCACATAGTCCCAGAGATGCAGGGAGGGTCATCCCCCAGCCACACAATGCTCAGATCTATGATAACCTTGTGGCATTGTTTATGCTCCTTAACGTACTGGGAGAGCTTTTAAAAAGTGCAAGTGTCTTTCAGCTCACCCCAGACTGGCAGCATGCTCCATGCTTCACTTGAAGTGCTCCAGGGACCAAGCGTAGCCCACAGAGGCCCACAGCACACCCGGACCCCCTCTCCCTCCTCCCATCCCCTCTGCCCCGTGGGTCCCGGGGAGGCCGGGCCAGAGACCAGAGCCTGCTCACTACGAGAACTGGATCCTGACCTCAGGGGCCTGCTCGGGCTCTGGCAGGAAGATCTGTGCTGATCCCGCTTGTAGTGGGCCGGGTGAATGGGGGAGGGCTGGGGATGGGCAGCCCCCAGTCCACCTGGGGGGCAAAGGGTGGTCAGGCCCAGGTCCCCCAGGGCCCAGCCCACAGAGGTGCCCCGGTGCTGATTGCTGGGGCCGCCTTTAGGTCTTTCTTCACCCAGCTCTTACCTTGAGGGTTGACGGGAGGCTGTGGGAAGCACTGAAGAGGAGCCCCCCTGGGGCTGTATATCCAGGATGTAGAGCAGGTCGGAGGGCTGGGTCTGTCCCGGAAGGTGGATGCTGAGGTGAAGACCATTCACAGTCCCAGGGCCATTGTTGTGGAGCTGAAGGGGTGGTGGTGGCAGGGTGTGGGGGAGCTTGCAGCGCCTCACCCGGAGTTCACGAGGACCGCTCACCCCAGCCAGGGGACATGAGGCTCCCCAATACCTCATAGGTGTGCTCCACTTTGGGTCCCCAGCTGTCCAAGCTGTTGCGCCCTCTCACCTTCTTCTGCCACCACCAGGAGGCTGGAAAGGAGTTCCTGCAGGTGCCCAAGACCCCCAGAGAGAGTGTGATGCCCTGATTGGCCTGTGGGGTTCCCCAGCGCCCCTGGAGTTTAGAGCCCTGAATGCC'\n",
    "print(ls[359])"
   ]
  },
  {
   "cell_type": "code",
   "execution_count": 137,
   "metadata": {},
   "outputs": [
    {
     "name": "stdout",
     "output_type": "stream",
     "text": [
      "['G', 'A', 'A', 'C', 'C', 'G', 'A', 'G', 'A', 'G', 'C', 'T', 'C', 'A', 'C', 'C', 'C', 'C', 'G', 'A', 'A', 'C', 'G', 'C', 'C', 'A', 'A', 'C', 'G', 'C', 'C', 'C', 'A', 'C', 'A', 'A', 'T', 'A', 'A', 'C', 'C', 'G', 'C', 'G', 'C', 'C', 'C', 'A', 'C', 'T', 'A', 'C', 'T', 'C', 'A', 'C', 'A', 'G', 'A', 'T', 'G', 'C', 'C', 'C', 'C', 'T', 'C', 'C', 'A', 'A', 'C', 'C', 'C', 'T', 'G', 'C', 'C', 'T', 'C', 'G', 'C', 'C', 'A', 'A', 'A', 'C', 'C', 'A', 'A', 'C', 'C', 'A', 'C', 'T', 'A', 'C', 'C', 'C', 'C', 'C', 'A', 'A', 'C', 'C', 'C', 'A']\n"
     ]
    }
   ],
   "source": [
    "import re\n",
    "from itertools import groupby\n",
    "data_1720=[]\n",
    "data_3079=[]\n",
    "with open('./HW5_data/hw5.sam')as f:\n",
    "  # for line in f.readlines()[94:len(f.readlines())-1]:\n",
    "  for line in f.readlines()[94:95]:\n",
    "    temp = line.split()\n",
    "    position =int(temp[3])\n",
    "    index_num = -2\n",
    "    index_alpha = 1\n",
    "    count = 42451720 - position\n",
    "    # print(count)\n",
    "    a = temp[5]\n",
    "    ss = [''.join(list(g)) for k, g in groupby(a, key=lambda x: x.isdigit())]\n",
    "    # print(ss,\"\\n\")\n",
    "    while count >= 0 :\n",
    "      index_num +=2\n",
    "      count -= int(ss[index_num])\n",
    "    # print(index_num ,ss[index_num+1],count)\n",
    "    for i in range(0,index_num,2):\n",
    "      if ss[i+1] == 'I':\n",
    "        position -= int(ss[i])\n",
    "      elif ss[i+1] == 'D':\n",
    "        position += int(ss[i])\n",
    "    data_1720.append(temp[9][42451720-position])\n",
    "#     data_3079.append(temp[9][42453079-position])\n",
    "print(data_1720)\n"
   ]
  },
  {
   "cell_type": "code",
   "execution_count": 68,
   "metadata": {},
   "outputs": [
    {
     "name": "stdout",
     "output_type": "stream",
     "text": [
      "['1', '11']\n",
      "['12', '25']\n"
     ]
    }
   ],
   "source": [
    "import re\n",
    "a = temp[5]\n",
    "if 'I' or 'M' or 'D' or 'S' in a:\n",
    "    matchI = re.findall(r'(\\d+)I', a)\n",
    "    intlistI = [int(x) for x in matchI]\n",
    "    print(sum(intlistI), matchI)\n",
    "    matchM = re.findall(r'(\\d+)M', a)\n",
    "    intlistM = [int(x) for x in matchM]\n",
    "    print(matchM)\n",
    "    matchD = re.findall(r'(\\d+)D', a)\n",
    "    intlistD = [int(x) for x in matchD]\n",
    "    print(sum(intlistD), matchD)\n",
    "    matchS = re.findall(r'(\\d+)S', a)\n",
    "    intlistS = [int(x) for x in matchS]\n",
    "    print(sum(intlistS))\n"
   ]
  }
 ],
 "metadata": {
  "kernelspec": {
   "display_name": "Python 3.8.13 ('base')",
   "language": "python",
   "name": "python3"
  },
  "language_info": {
   "codemirror_mode": {
    "name": "ipython",
    "version": 3
   },
   "file_extension": ".py",
   "mimetype": "text/x-python",
   "name": "python",
   "nbconvert_exporter": "python",
   "pygments_lexer": "ipython3",
   "version": "3.8.13"
  },
  "orig_nbformat": 4,
  "vscode": {
   "interpreter": {
    "hash": "b652db86bc4a3f39af653c5fc6e38a2ef8a7afb1b11d52937445ea5172ff28aa"
   }
  }
 },
 "nbformat": 4,
 "nbformat_minor": 2
}
