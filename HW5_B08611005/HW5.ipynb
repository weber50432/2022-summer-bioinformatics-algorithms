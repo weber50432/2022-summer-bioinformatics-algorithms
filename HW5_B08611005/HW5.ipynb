{
 "cells": [
  {
   "cell_type": "code",
   "execution_count": 7,
   "metadata": {},
   "outputs": [
    {
     "name": "stdout",
     "output_type": "stream",
     "text": [
      "A\n"
     ]
    }
   ],
   "source": [
    "ls ='TTGTACTTCTAGTTTCAGTTGCATGCCCCAGTTGGCACTGCAGTGAACCTCCTCGCAGCACCTCCTGGGTTCATGCAGATTCTACTGCCTCAGCCTCCCGAGTAGCTGAGATTACAGGCATGTGTCAACACGCCCGGCTAATTTTAGTATTTTTAGAGATGGGGTTTCACCATGTTGGCCAGGCTGGTCTCGAACTCTTGACCTCAGGTGATCTCAGCACTTTGGCCTCCCAAAGTGCTGGGATTACAGGTGTGAGACCACCACTGGACCAAGGGCATTGTTCTAATAGTGGAGACATAGACCCTGGTCCCTGGATTACCCACTTGGGTGGAGCCACCATCTCTCCTTGACTCCCTGTGAGGCAGGGCAGAGCCAAGCCTGTGCCCCGCTGAAGACTCCTGCCGTCGCTTCACACCTCACCTTCCATGGCCAGGACCAGGATGGTGAGCAACGCAGGCCACCCAGCACACCCACCAGCACTACCAGATTGGAATGGCCCTCTCCTCCCAGGCCCGGAGCAGCTGTGTCCACACCTGGGGGCAAACCCATGTCTCCTCAGTCACCTGACACCTGCCTTTCCACAAAGACTCAAACCTCAGGCTGGTGACCTCAGCCATGCCACCCACCACGTACCACCCCTCCAGACTTTTCTGGCTGGGCACTGACTGGGGGACAATGGGTCCTGCAGGACTGAGTCTCTGCTCCATCCCCCACACTCACCCTGAGCTTCCCACTCGGGGCAGGCTGAGCAGGGGCACCGCATAGGGAGGAGGACACGTTGAACCATGCGTGCGACTGCAGCACAAACTGATCAGAGGCCTCTGGACGGGTTGGGGTTGAAAGCCGTTTACACCCACAAGAGGCCTATTGGTTGCAGGAGTCAGGTCCACACCCCCGGCGGGGAAGCCCACCTGCCTCTGACCTAATCCCTGCAATCCCCCAAAGTAAACCTTGCCTTCCCTCTCTTCCTGCCTCCACACAAACCCCGCCCCTCCCAGAGCAAAGTGGTCCCCGCCCAGAAGGCCCCGGCCCCGCCCCACCACGGCCCACCCCACCTGGTAGAGGCTGGGCAGCCACGGGCGCACCGTGACCATGGCCCGCTGCCCGCGCTGTGCATCTCCACTGCAGGTCACACTGCACCACAGTACAGGGCGCCGAGTCGCAACTCTGAGGAAGCATCGTCAGTCCCAGCCCGTCTAGCCATCACCCCATCATCCCCCCACCCCCTTACCCCCAGGACCCAGCAGAAGGGCCGGGGTTCAGAAAGCAGTGGCCTTCCCATCAGGAAGGGCCTTGGATCCCAGCTTCGGATGCTGTCTTTCCACGGGCTTGCTCACATAGTCCCAGAGATGCAGGGAGGGTCATCCCCCAGCCACACAATGCTCAGATCTATGATAACCTTGTGGCATTGTTTATGCTCCTTAACGTACTGGGAGAGCTTTTAAAAAGTGCAAGTGTCTTTCAGCTCACCCCAGACTGGCAGCATGCTCCATGCTTCACTTGAAGTGCTCCAGGGACCAAGCGTAGCCCACAGAGGCCCACAGCACACCCGGACCCCCTCTCCCTCCTCCCATCCCCTCTGCCCCGTGGGTCCCGGGGAGGCCGGGCCAGAGACCAGAGCCTGCTCACTACGAGAACTGGATCCTGACCTCAGGGGCCTGCTCGGGCTCTGGCAGGAAGATCTGTGCTGATCCCGCTTGTAGTGGGCCGGGTGAATGGGGGAGGGCTGGGGATGGGCAGCCCCCAGTCCACCTGGGGGGCAAAGGGTGGTCAGGCCCAGGTCCCCCAGGGCCCAGCCCACAGAGGTGCCCCGGTGCTGATTGCTGGGGCCGCCTTTAGGTCTTTCTTCACCCAGCTCTTACCTTGAGGGTTGACGGGAGGCTGTGGGAAGCACTGAAGAGGAGCCCCCCTGGGGCTGTATATCCAGGATGTAGAGCAGGTCGGAGGGCTGGGTCTGTCCCGGAAGGTGGATGCTGAGGTGAAGACCATTCACAGTCCCAGGGCCATTGTTGTGGAGCTGAAGGGGTGGTGGTGGCAGGGTGTGGGGGAGCTTGCAGCGCCTCACCCGGAGTTCACGAGGACCGCTCACCCCAGCCAGGGGACATGAGGCTCCCCAATACCTCATAGGTGTGCTCCACTTTGGGTCCCCAGCTGTCCAAGCTGTTGCGCCCTCTCACCTTCTTCTGCCACCACCAGGAGGCTGGAAAGGAGTTCCTGCAGGTGCCCAAGACCCCCAGAGAGAGTGTGATGCCCTGATTGGCCTGTGGGGTTCCCCAGCGCCCCTGGAGTTTAGAGCCCTGAATGCC'\n",
    "print(ls[359])"
   ]
  },
  {
   "cell_type": "code",
   "execution_count": 4,
   "metadata": {},
   "outputs": [],
   "source": [
    "from itertools import groupby\n",
    "from Bio.Seq import Seq\n",
    "# def Reverse_Complement(base):\n",
    "#   base = base.replace('A', 'T')\n",
    "#   base = base.replace('A', 'T')\n",
    "#   base = base.replace('A', 'T')\n",
    "#   base = base.replace('A', 'T')\n",
    "\n",
    "\n",
    "data_1720=[]\n",
    "data_3079=[]\n",
    "data = []\n",
    "dic ={}\n",
    "position1 = 0\n",
    "position2 = 0\n",
    "with open('/Users/weber/Desktop/2022summer_course/Homeowrk/HW5_B08611005/HW5_data/ITGA2B.vcf') as vcf:\n",
    "  position1=int(vcf.readline().split()[1])\n",
    "  position2=int(vcf.readline().split()[1])\n",
    "  # print(position1,position2)\n",
    "vcf.close()\n",
    "with open('./HW5_data/hw5.sam')as f:\n",
    "  for line in f.readlines()[94:len(f.readlines())-1]:\n",
    "    temp = line.split()\n",
    "    position =int(temp[3])\n",
    "    index_num = -2\n",
    "    count = 0\n",
    "    seq_pos_first = position1- position\n",
    "    seq_pos_second = position2 - position\n",
    "    a = temp[5]\n",
    "    CIGAR = [''.join(list(g)) for k, g in groupby(a, key=lambda x: x.isdigit())]\n",
    "    if temp[1] == '0' or temp[1] =='2048':\n",
    "      seq = list(temp[9])\n",
    "      while count < seq_pos_second + 1:\n",
    "        index_num += 2\n",
    "        if CIGAR[index_num+1] == 'I':\n",
    "          seq[count] = ''.join(seq[count:count+int(CIGAR[index_num])+1])\n",
    "          for r in range(int(CIGAR[index_num])):\n",
    "            seq.pop(count+1)\n",
    "        elif CIGAR[index_num+1] == 'D':\n",
    "          for i in range(int(CIGAR[index_num])):\n",
    "            seq.insert(count, '.')\n",
    "          count += int(CIGAR[index_num])\n",
    "        else:\n",
    "          count += int(CIGAR[index_num])\n",
    "      # data_1720.append(seq[seq_pos_first])\n",
    "      # data_3079.append(seq[seq_pos_second])\n",
    "      if len(seq) > seq_pos_first and len(seq) > seq_pos_second:\n",
    "        key = seq[seq_pos_first] +\"/\"+seq [seq_pos_second]\n",
    "      # print(key)\n",
    "    \n",
    "        if key not in dic:\n",
    "          dic[key] = 1\n",
    "        else:\n",
    "          dic[key] += 1\n",
    "    else:\n",
    "      CIGAR.reverse()\n",
    "      # print(CIGAR[0:20], \"\\n\")\n",
    "      # print(temp[9])\n",
    "      seq = list(str(Seq(temp[9]).reverse_complement()))\n",
    "      # print(seq)\n",
    "      while count < seq_pos_second + 1:\n",
    "        index_num += 2\n",
    "        if CIGAR[index_num] == 'I':\n",
    "          seq[count] = ''.join(seq[count:count+int(CIGAR[index_num+1])+1])\n",
    "          for r in range(int(CIGAR[index_num+1])):\n",
    "            seq.pop(count+1)\n",
    "        elif CIGAR[index_num] == 'D':\n",
    "          for i in range(int(CIGAR[index_num+1])):\n",
    "            seq.insert(count, '.')\n",
    "          count += int(CIGAR[index_num+1])\n",
    "        else:\n",
    "          count += int(CIGAR[index_num+1])\n",
    "      # print(len(seq),seq_pos_first,seq_pos_second)\n",
    "      if len(seq) > seq_pos_first and len(seq)> seq_pos_second:\n",
    "        key = seq[seq_pos_first] + \"/\"+seq[seq_pos_second]\n",
    "      # print(key)\n",
    "        if key not in dic:\n",
    "          dic[key] = 1\n",
    "        else:\n",
    "          dic[key] += 1\n",
    "    \n",
    "# print(data_1720,data_3079)\n",
    "dic\n",
    "f.close()\n"
   ]
  },
  {
   "cell_type": "code",
   "execution_count": 11,
   "metadata": {},
   "outputs": [],
   "source": [
    "from audioop import reverse\n",
    "from os import sep\n",
    "import pandas as pd\n",
    "\n",
    "sorted_dic = {k: v for k, v in sorted(dic.items(), key=lambda item: item[1] ,reverse = True)}\n",
    "output = pd.DataFrame(list(sorted_dic.items()),columns= ['Haplotype','Count'])\n",
    "output.to_csv(\"B08611005.魏渤翰.HW5.txt\", sep=\"\\t\",index=False)"
   ]
  },
  {
   "cell_type": "code",
   "execution_count": 68,
   "metadata": {},
   "outputs": [
    {
     "name": "stdout",
     "output_type": "stream",
     "text": [
      "['1', '11']\n",
      "['12', '25']\n"
     ]
    }
   ],
   "source": [
    "import re\n",
    "a = temp[5]\n",
    "if 'I' or 'M' or 'D' or 'S' in a:\n",
    "    matchI = re.findall(r'(\\d+)I', a)\n",
    "    intlistI = [int(x) for x in matchI]\n",
    "    print(sum(intlistI), matchI)\n",
    "    matchM = re.findall(r'(\\d+)M', a)\n",
    "    intlistM = [int(x) for x in matchM]\n",
    "    print(matchM)\n",
    "    matchD = re.findall(r'(\\d+)D', a)\n",
    "    intlistD = [int(x) for x in matchD]\n",
    "    print(sum(intlistD), matchD)\n",
    "    matchS = re.findall(r'(\\d+)S', a)\n",
    "    intlistS = [int(x) for x in matchS]\n",
    "    print(sum(intlistS))\n"
   ]
  },
  {
   "cell_type": "code",
   "execution_count": 168,
   "metadata": {},
   "outputs": [
    {
     "name": "stdout",
     "output_type": "stream",
     "text": [
      "ATTTTTAAAAA\n"
     ]
    }
   ],
   "source": [
    "def Reverse_Complement(base):\n",
    "  # for i in base:\n",
    "  base = base.replace('A','T',1)\n",
    "  base = base.replace('T','A',1)\n",
    "  return base\n",
    "print(Reverse_Complement('TTTTTAAAAAA'))"
   ]
  },
  {
   "cell_type": "code",
   "execution_count": 142,
   "metadata": {},
   "outputs": [
    {
     "name": "stdout",
     "output_type": "stream",
     "text": [
      "['T', 'T', 'G', 'T', 'A', 'C', 'T', 'T', 'C', 'T']\n",
      "['T', 'TGT', 'A', 'C', 'T', 'T', 'C', 'T', 'A', 'G']\n"
     ]
    }
   ],
   "source": [
    "with open('./HW5_data/hw5.sam')as f:\n",
    "  # for line in f.readlines()[94:len(f.readlines())-1]:\n",
    "  for line in f.readlines()[94:95]:\n",
    "    temp = line.split()\n",
    "    seq = list(temp[9])\n",
    "    insert = 2\n",
    "    position = 1\n",
    "    print(seq[0:10])\n",
    "    # seq.insert(1,'.')\n",
    "    seq[position] = ''.join(seq[position:position+insert+1])\n",
    "    for r in range(insert):\n",
    "      seq.pop(position+1)\n",
    "    print(seq[0:10])"
   ]
  }
 ],
 "metadata": {
  "kernelspec": {
   "display_name": "Python 3.8.13 ('base')",
   "language": "python",
   "name": "python3"
  },
  "language_info": {
   "codemirror_mode": {
    "name": "ipython",
    "version": 3
   },
   "file_extension": ".py",
   "mimetype": "text/x-python",
   "name": "python",
   "nbconvert_exporter": "python",
   "pygments_lexer": "ipython3",
   "version": "3.8.13"
  },
  "orig_nbformat": 4,
  "vscode": {
   "interpreter": {
    "hash": "b652db86bc4a3f39af653c5fc6e38a2ef8a7afb1b11d52937445ea5172ff28aa"
   }
  }
 },
 "nbformat": 4,
 "nbformat_minor": 2
}
