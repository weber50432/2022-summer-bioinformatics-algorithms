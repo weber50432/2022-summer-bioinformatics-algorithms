{
 "cells": [
  {
   "cell_type": "code",
   "execution_count": 181,
   "metadata": {},
   "outputs": [
    {
     "name": "stdout",
     "output_type": "stream",
     "text": [
      "95\n",
      "2254 H -1\n",
      "19 M -1\n",
      "{}\n"
     ]
    }
   ],
   "source": [
    "from ast import operator\n",
    "from itertools import groupby\n",
    "from Bio.Seq import Seq\n",
    "def change_SEQ(ref_index:int,number:int,operator,seq:list):\n",
    "  if operator == 'I':\n",
    "    seq[ref_index] = ''.join(seq[ref_index:ref_index+number+1])\n",
    "    for r in range(number):\n",
    "      seq.pop(ref_index+1)\n",
    "  elif operator == 'D':\n",
    "    for i in range(number):\n",
    "      seq.insert(ref_index+1, '.')\n",
    "    ref_index += number\n",
    "  elif operator == 'S' or operator == 'H':\n",
    "    for r in range(number):\n",
    "      if seq:\n",
    "        seq.pop(ref_index+1)\n",
    "  else:\n",
    "    ref_index += number\n",
    "  return ref_index\n",
    "data = []\n",
    "dic ={}\n",
    "position1 = 0\n",
    "position2 = 0\n",
    "x = 95\n",
    "with open('/Users/weber/Desktop/2022summer_course/Homeowrk/HW5_B08611005/HW5_data/ITGA2B.vcf') as vcf:\n",
    "  position1=int(vcf.readline().split()[1])\n",
    "  position2=int(vcf.readline().split()[1])\n",
    "vcf.close()\n",
    "with open('./HW5_data/hw5.sam')as f:\n",
    "  # for line in f.readlines()[94:len(f.readlines())-1]:\n",
    "  for line in f.readlines()[201:202]:\n",
    "    print(x)\n",
    "    x += 1\n",
    "    temp = line.split()\n",
    "    position =int(temp[3])\n",
    "    ref_index = -1\n",
    "    var_pos_first = position1- position\n",
    "    var_pos_second = position2 - position\n",
    "    cigar = temp[5]\n",
    "    CIGAR = [''.join(list(g)) for k, g in groupby(cigar, key=lambda x: x.isdigit())]\n",
    "    cigar_move = iter(CIGAR)\n",
    "    if temp[1] == '0' or temp[1] == '2048':\n",
    "      seq = list(temp[9])\n",
    "    elif temp[1] == '16':\n",
    "      seq = list(str(Seq(temp[9]).reverse_complement()))\n",
    "    for num, op in zip(cigar_move, cigar_move):\n",
    "      print(num, op, ref_index)\n",
    "      if len(seq) < ref_index or len(seq) == 0:\n",
    "        break\n",
    "      ref_index = change_SEQ(ref_index, int(num), op, seq)\n",
    "    \n",
    "    if len(seq) > var_pos_first and len(seq) > var_pos_second:\n",
    "      key = seq[var_pos_first] + \"/\"+seq[var_pos_second]\n",
    "      if key not in dic:\n",
    "        dic[key] = 1\n",
    "      else:\n",
    "        dic[key] += 1\n",
    "    # print(key)\n",
    "# print(data_1720,data_3079)\n",
    "print(dic)\n",
    "f.close()\n"
   ]
  },
  {
   "cell_type": "code",
   "execution_count": 136,
   "metadata": {},
   "outputs": [],
   "source": [
    "from audioop import reverse\n",
    "from os import sep\n",
    "import pandas as pd\n",
    "\n",
    "sorted_dic = {k: v for k, v in sorted(dic.items(), key=lambda item: item[1] ,reverse = True)}\n",
    "output = pd.DataFrame(list(sorted_dic.items()),columns= ['Haplotype','Count'])\n",
    "output.to_csv(\"B08611005.魏渤翰.HW5.txt\", sep=\"\\t\",index=False)"
   ]
  },
  {
   "cell_type": "code",
   "execution_count": 152,
   "metadata": {},
   "outputs": [
    {
     "name": "stdout",
     "output_type": "stream",
     "text": [
      "['A', 'A', 'A', 'T', 'G', 'T', 'C', 'G', 'C', 'G', 'G', 'T', 'G', 'T', 'A', 'G', 'G', 'A', 'G', 'G', 'A', 'T', 'C', 'C']\n",
      "2 S -1\n",
      "['A', 'T', 'G', 'T', 'C', 'G', 'C', 'G', 'G', 'T', 'G', 'T', 'A', 'G', 'G', 'A', 'G', 'G', 'A', 'T', 'C', 'C']\n",
      "5 M -1\n",
      "['A', 'T', 'G', 'T', 'C', 'G', 'C', 'G', 'G', 'T', 'G', 'T', 'A', 'G', 'G', 'A', 'G', 'G', 'A', 'T', 'C', 'C']\n",
      "2 I 4\n",
      "['A', 'T', 'G', 'T', 'CGC', 'G', 'G', 'T', 'G', 'T', 'A', 'G', 'G', 'A', 'G', 'G', 'A', 'T', 'C', 'C']\n",
      "4 M 4\n",
      "['A', 'T', 'G', 'T', 'CGC', 'G', 'G', 'T', 'G', 'T', 'A', 'G', 'G', 'A', 'G', 'G', 'A', 'T', 'C', 'C']\n",
      "1 D 8\n",
      "['A', 'T', 'G', 'T', 'CGC', 'G', 'G', 'T', 'G', '.', 'T', 'A', 'G', 'G', 'A', 'G', 'G', 'A', 'T', 'C', 'C']\n",
      "5 M 9\n",
      "['A', 'T', 'G', 'T', 'CGC', 'G', 'G', 'T', 'G', '.', 'T', 'A', 'G', 'G', 'A', 'G', 'G', 'A', 'T', 'C', 'C']\n",
      "6 S 14\n",
      "['A', 'T', 'G', 'T', 'CGC', 'G', 'G', 'T', 'G', '.', 'T', 'A', 'G', 'G', 'A']\n"
     ]
    }
   ],
   "source": [
    "with open('./HW5_data/hw5.sam')as f:\n",
    "  # for line in f.readlines()[94:len(f.readlines())-1]:\n",
    "  x = -1\n",
    "  for line in f.readlines()[94:95]:\n",
    "    temp = line.split()\n",
    "    seq = list('AAATGTCGCGGTGTAGGAGGATCC')\n",
    "    ss ='2S5M2I4M1D5M6S'\n",
    "    CIGAR = [''.join(list(g))for k, g in groupby(ss, key=lambda x: x.isdigit())]\n",
    "    cigar_move = iter(CIGAR)\n",
    "    print(seq)\n",
    "    for num, op in zip(cigar_move, cigar_move):\n",
    "        print(num,op,x)\n",
    "        x = change_SEQ(x, int(num), op, seq)\n",
    "        print(seq)\n",
    "    # insert = 2\n",
    "    # position = 4\n",
    "    # print(seq[0:20])\n",
    "    # seq.pop(0)\n",
    "    # seq.pop(0)\n",
    "    # seq[position] = ''.join(seq[position:position+insert+1])\n",
    "    # for r in range(insert):\n",
    "    #   seq.pop(position+1)\n",
    "    # seq.insert(8,'.')\n",
    "    # print(seq[0:20])\n",
    "    # for r in range(6): \n",
    "    #   seq.pop(15)\n",
    "    # print(seq[0:20])"
   ]
  },
  {
   "cell_type": "code",
   "execution_count": 119,
   "metadata": {},
   "outputs": [
    {
     "name": "stdout",
     "output_type": "stream",
     "text": [
      "A A\n",
      "A T\n",
      "G T\n",
      "C G\n",
      "C G\n",
      "G T\n",
      "G T\n",
      "A G\n",
      "G A\n",
      "G G\n",
      "A T\n",
      "C C\n"
     ]
    }
   ],
   "source": [
    "seq = iter(list('AAATGTCGCGGTGTAGGAGGATCC'))\n",
    "CIGAR = [''.join(list(g))for k, g in groupby(seq, key=lambda x: x.isdigit())]\n",
    "for x, y in zip(seq, seq):\n",
    "    print (x, y)\n"
   ]
  },
  {
   "cell_type": "code",
   "execution_count": null,
   "metadata": {},
   "outputs": [],
   "source": [
    "\n",
    "\n"
   ]
  }
 ],
 "metadata": {
  "kernelspec": {
   "display_name": "Python 3.8.13 ('base')",
   "language": "python",
   "name": "python3"
  },
  "language_info": {
   "codemirror_mode": {
    "name": "ipython",
    "version": 3
   },
   "file_extension": ".py",
   "mimetype": "text/x-python",
   "name": "python",
   "nbconvert_exporter": "python",
   "pygments_lexer": "ipython3",
   "version": "3.8.13"
  },
  "orig_nbformat": 4,
  "vscode": {
   "interpreter": {
    "hash": "b652db86bc4a3f39af653c5fc6e38a2ef8a7afb1b11d52937445ea5172ff28aa"
   }
  }
 },
 "nbformat": 4,
 "nbformat_minor": 2
}
