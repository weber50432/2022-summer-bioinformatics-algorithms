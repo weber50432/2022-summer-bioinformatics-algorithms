{
 "cells": [
  {
   "cell_type": "code",
   "execution_count": 1,
   "metadata": {},
   "outputs": [
    {
     "name": "stdout",
     "output_type": "stream",
     "text": [
      "2128 1064.0 250\n"
     ]
    }
   ],
   "source": [
    "num =[]\n",
    "fp = open('./HW4.1.txt', \"r\", encoding=\"utf-8-sig\")  # 讀取test檔案\n",
    "# print(lines)\n",
    "for i in fp.readlines(): \n",
    "  temp = i.strip('\\n')\n",
    "  # print(temp)\n",
    "  temp = \"\".join(temp)\n",
    "  num.append(int(temp))\n",
    "# print(num)\n",
    "num.sort(reverse=True)\n",
    "total_length = sum(num)\n",
    "N50_sum = 0\n",
    "index = -1\n",
    "while(N50_sum <= total_length/2):\n",
    "  index += 1\n",
    "  N50_sum += num[index]\n",
    "print(total_length,total_length/2,num[index])\n",
    "with open('./HW4.1_answer.txt', 'w') as output:\n",
    "  output.write(f\"Total contig lengh :{total_length}\\n\")\n",
    "  output.write(f\"50 % total contig lengh::{total_length/2}\\n\")\n",
    "  output.write(f\"N50 = {num[index]}\")\n"
   ]
  },
  {
   "cell_type": "code",
   "execution_count": 42,
   "metadata": {},
   "outputs": [
    {
     "name": "stdout",
     "output_type": "stream",
     "text": [
      "100 <class 'str'>\n",
      "300 <class 'str'>\n",
      "111 <class 'str'>\n",
      "168 <class 'str'>\n",
      "259 <class 'str'>\n",
      "1 <class 'str'>\n",
      "250 <class 'str'>\n",
      "155 <class 'str'>\n",
      "87 <class 'str'>\n",
      "118 <class 'str'>\n",
      "66 <class 'str'>\n",
      "17 <class 'str'>\n",
      "299 <class 'str'>\n",
      "197 <class 'str'>\n"
     ]
    }
   ],
   "source": [
    "num = []\n",
    "fp = open('./HW4.1.txt', \"r\",encoding=\"utf-8-sig\")  # 讀取test檔案\n",
    "# print(lines)\n",
    "for i in fp.readlines():\n",
    "  temp = i.strip('\\n')\n",
    "  print(int(temp),type(temp))\n"
   ]
  }
 ],
 "metadata": {
  "kernelspec": {
   "display_name": "Python 3.10.5 64-bit",
   "language": "python",
   "name": "python3"
  },
  "language_info": {
   "codemirror_mode": {
    "name": "ipython",
    "version": 3
   },
   "file_extension": ".py",
   "mimetype": "text/x-python",
   "name": "python",
   "nbconvert_exporter": "python",
   "pygments_lexer": "ipython3",
   "version": "3.10.5"
  },
  "orig_nbformat": 4,
  "vscode": {
   "interpreter": {
    "hash": "aee8b7b246df8f9039afb4144a1f6fd8d2ca17a180786b69acc140d282b71a49"
   }
  }
 },
 "nbformat": 4,
 "nbformat_minor": 2
}
